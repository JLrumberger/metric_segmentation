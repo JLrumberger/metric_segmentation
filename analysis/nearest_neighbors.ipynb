{
 "cells": [
  {
   "cell_type": "markdown",
   "metadata": {},
   "source": [
    "## Setup ## "
   ]
  },
  {
   "cell_type": "code",
   "execution_count": 11,
   "metadata": {},
   "outputs": [
    {
     "name": "stdout",
     "output_type": "stream",
     "text": [
      "The autoreload extension is already loaded. To reload it, use:\n",
      "  %reload_ext autoreload\n"
     ]
    }
   ],
   "source": [
    "\"\"\"Visualize embeddings produced\"\"\"\n",
    "import numpy as np\n",
    "import tensorflow as tf \n",
    "import h5py\n",
    "import matplotlib.pyplot as plt\n",
    "import os\n",
    "\n",
    "from skimage import measure\n",
    "\n",
    "import utils\n",
    "import nearest_vectors\n",
    "\n",
    "%load_ext autoreload\n",
    "%autoreload 2\n",
    "\n",
    "os.environ['CUDA_VISIBLE_DEVICES'] = '0'\n",
    "\n",
    "ROOT = '/usr/people/kluther/Projects/metric_segmentation/'"
   ]
  },
  {
   "cell_type": "code",
   "execution_count": 4,
   "metadata": {},
   "outputs": [
    {
     "data": {
      "application/javascript": [
       "require(\n",
       "        [\"notebook/js/outputarea\"],\n",
       "        function (oa) {\n",
       "            oa.OutputArea.auto_scroll_threshold = -1;\n",
       "            console.log(\"Setting auto_scroll_threshold to -1\");\n",
       "        });"
      ],
      "text/plain": [
       "<IPython.core.display.Javascript object>"
      ]
     },
     "metadata": {},
     "output_type": "display_data"
    }
   ],
   "source": [
    "%%javascript\n",
    "require(\n",
    "        [\"notebook/js/outputarea\"],\n",
    "        function (oa) {\n",
    "            oa.OutputArea.auto_scroll_threshold = -1;\n",
    "            console.log(\"Setting auto_scroll_threshold to -1\");\n",
    "        });"
   ]
  },
  {
   "cell_type": "markdown",
   "metadata": {},
   "source": [
    "## Compute center vectors, pixel centroids, for each object ## "
   ]
  },
  {
   "cell_type": "code",
   "execution_count": 5,
   "metadata": {
    "collapsed": true
   },
   "outputs": [],
   "source": [
    "\"\"\"Load data\"\"\"\n",
    "em_imgs  = h5py.File(os.path.join(ROOT, 'data', 'image.h5'), 'r')['main']\n",
    "seg_imgs = h5py.File(os.path.join(ROOT, 'data', 'human_labels.h5'), 'r')['main']\n",
    "\n",
    "em_imgs_train = em_imgs[:192]\n",
    "seg_imgs_train = seg_imgs[:192]\n",
    "em_imgs_dev = em_imgs[192:]\n",
    "seg_imgs_dev = seg_imgs[192:]"
   ]
  },
  {
   "cell_type": "code",
   "execution_count": 6,
   "metadata": {},
   "outputs": [
    {
     "name": "stdout",
     "output_type": "stream",
     "text": [
      "INFO:tensorflow:Restoring parameters from /usr/people/kluther/Projects/metric_segmentation/experiments/boundary_mask_on_augment_on_random_windows/models/model30000.ckpt\n"
     ]
    }
   ],
   "source": [
    "\"\"\"Load model\"\"\"\n",
    "N = 30000 #Iteration number\n",
    "EXP_NAME = 'boundary_mask_on_augment_on_random_windows'\n",
    "MODEL_NAME = os.path.join(ROOT, 'experiments', EXP_NAME, 'models', 'model{}.ckpt'.format(N))\n",
    "\n",
    "tf.reset_default_graph()\n",
    "sess = tf.Session()\n",
    "inputs, outputs = utils.load_model(MODEL_NAME, sess)"
   ]
  },
  {
   "cell_type": "code",
   "execution_count": 42,
   "metadata": {},
   "outputs": [
    {
     "name": "stdout",
     "output_type": "stream",
     "text": [
      "Processing img: 0\n",
      "Processing img: 1\n",
      "Processing img: 2\n",
      "Processing img: 3\n",
      "Processing img: 4\n",
      "Processing img: 5\n",
      "Processing img: 6\n",
      "Processing img: 7\n",
      "Processing img: 8\n",
      "Processing img: 9\n",
      "Processing img: 10\n",
      "Processing img: 11\n",
      "Processing img: 12\n",
      "Processing img: 13\n",
      "Processing img: 14\n",
      "Processing img: 15\n",
      "Processing img: 16\n",
      "Processing img: 17\n",
      "Processing img: 18\n",
      "Processing img: 19\n",
      "Processing img: 20\n",
      "Processing img: 21\n",
      "Processing img: 22\n",
      "Processing img: 23\n",
      "Processing img: 24\n",
      "Processing img: 25\n",
      "Processing img: 26\n",
      "Processing img: 27\n",
      "Processing img: 28\n",
      "Processing img: 29\n",
      "Processing img: 30\n",
      "Processing img: 31\n",
      "Processing img: 32\n",
      "Processing img: 33\n",
      "Processing img: 34\n",
      "Processing img: 35\n",
      "Processing img: 36\n",
      "Processing img: 37\n",
      "Processing img: 38\n",
      "Processing img: 39\n",
      "Processing img: 40\n",
      "Processing img: 41\n",
      "Processing img: 42\n",
      "Processing img: 43\n",
      "Processing img: 44\n",
      "Processing img: 45\n",
      "Processing img: 46\n",
      "Processing img: 47\n",
      "Processing img: 48\n",
      "Processing img: 49\n",
      "Processing img: 50\n",
      "Processing img: 51\n",
      "Processing img: 52\n",
      "Processing img: 53\n",
      "Processing img: 54\n",
      "Processing img: 55\n",
      "Processing img: 56\n",
      "Processing img: 57\n",
      "Processing img: 58\n",
      "Processing img: 59\n",
      "Processing img: 60\n",
      "Processing img: 61\n",
      "Processing img: 62\n",
      "Processing img: 63\n"
     ]
    }
   ],
   "source": [
    "\"\"\"Get centroids, mean vectors for each object (note only sampling a region from each image right now)\"\"\"\n",
    "# Train\n",
    "centroids_dev, vectors_dev = {}, {} \n",
    "for i in range(len(em_imgs_dev)):\n",
    "    if i % 5 == 0: print(\"Processing img: {}\".format(i))\n",
    "    em_img, seg_img = em_imgs_dev[i][:572,:572], seg_imgs_dev[i][92:572-92,92:572-92]\n",
    "    vec_img = utils.generate_vector_labels(inputs, outputs, em_img, sess)\n",
    "    centroids, vectors = nearest_vectors.find_object_ids_centroids_vectors([seg_img], [vec_img])\n",
    "    \n",
    "    centroids = [(2**15*i+ID, val) for ID,val in centroids.items()]\n",
    "    vectors = [(2**15*i+ID, val) for ID,val in vectors.items()]\n",
    "    centroids_dev.update(centroids)\n",
    "    vectors_dev.update(vectors)\n",
    "    \n"
   ]
  },
  {
   "cell_type": "markdown",
   "metadata": {},
   "source": [
    "## Display nearest neighbors ##"
   ]
  },
  {
   "cell_type": "code",
   "execution_count": 51,
   "metadata": {},
   "outputs": [
    {
     "data": {
      "text/plain": [
       "[3, 4, 15, 16, 17, 23, 31, 52, 122, 125]"
      ]
     },
     "execution_count": 51,
     "metadata": {},
     "output_type": "execute_result"
    }
   ],
   "source": [
    "list(centroids_dev)[:10]"
   ]
  },
  {
   "cell_type": "code",
   "execution_count": 49,
   "metadata": {},
   "outputs": [
    {
     "name": "stdout",
     "output_type": "stream",
     "text": [
      "[(327695, 0.95997888), (1147046, 0.93794972), (98319, 0.93431753), (1081510, 0.9278056), (65551, 0.92353302)]\n"
     ]
    },
    {
     "data": {
      "image/png": "[encoded data removed]",
      "text/plain": [
       "<matplotlib.figure.Figure at 0x7f80a45b6d68>"
      ]
     },
     "metadata": {},
     "output_type": "display_data"
    },
    {
     "data": {
      "image/png": "[encoded data removed]",
      "text/plain": [
       "<matplotlib.figure.Figure at 0x7f808fc0e320>"
      ]
     },
     "metadata": {},
     "output_type": "display_data"
    },
    {
     "data": {
      "image/png": "[encoded data removed]",
      "text/plain": [
       "<matplotlib.figure.Figure at 0x7f808fb3ab00>"
      ]
     },
     "metadata": {},
     "output_type": "display_data"
    },
    {
     "data": {
      "image/png": "[encoded data removed]",
      "text/plain": [
       "<matplotlib.figure.Figure at 0x7f808fbc36a0>"
      ]
     },
     "metadata": {},
     "output_type": "display_data"
    },
    {
     "data": {
      "image/png": "[encoded data removed]",
      "text/plain": [
       "<matplotlib.figure.Figure at 0x7f808fc6b4e0>"
      ]
     },
     "metadata": {},
     "output_type": "display_data"
    },
    {
     "data": {
      "image/png": "[encoded data removed]",
      "text/plain": [
       "<matplotlib.figure.Figure at 0x7f808feb8f28>"
      ]
     },
     "metadata": {},
     "output_type": "display_data"
    }
   ],
   "source": [
    "def show_k_nearest(vec_id, k, vectors):\n",
    "    knn = nearest_vectors.k_nearest_neighbors(vectors, vec_id, k)\n",
    "    ids = [(vec_id // 2**15, vec_id % 2**15)] + [(ID // 2**15, ID % 2**15) for ID, aff in knn]\n",
    "    print(knn)\n",
    "    for i,j in ids:\n",
    "        seg_img = seg_imgs_dev[i]\n",
    "        mask = np.zeros_like(seg_img)\n",
    "        mask[seg_img==j] = 1\n",
    "        plt.figure(figsize=(8,8))\n",
    "        plt.title(\"Slice: {}, ID: {}\".format(i,j))\n",
    "        plt.imshow(mask, cmap='gray')\n",
    "        plt.show()\n",
    "    \n",
    "show_k_nearest(3, 5, vectors_dev)"
   ]
  },
  {
   "cell_type": "code",
   "execution_count": null,
   "metadata": {
    "collapsed": true
   },
   "outputs": [],
   "source": []
  }
 ],
 "metadata": {
  "kernelspec": {
   "display_name": "Python 3",
   "language": "python",
   "name": "python3"
  },
  "language_info": {
   "codemirror_mode": {
    "name": "ipython",
    "version": 3
   },
   "file_extension": ".py",
   "mimetype": "text/x-python",
   "name": "python",
   "nbconvert_exporter": "python",
   "pygments_lexer": "ipython3",
   "version": "3.6.1"
  }
 },
 "nbformat": 4,
 "nbformat_minor": 2
}
